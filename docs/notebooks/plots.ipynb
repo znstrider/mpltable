{
 "cells": [
  {
   "cell_type": "markdown",
   "metadata": {},
   "source": [
    "# Plotting onto Column Cells"
   ]
  },
  {
   "cell_type": "markdown",
   "metadata": {},
   "source": [
    "By providing a `plot_fn (Callable)` to a ColumnDefinition, plottable creates an axes on top of each Cell of this column, and creates plots based on each cell's value.\n",
    "\n",
    "You can provide additional keywords to the plot function by passing a `plot_kw` dictionary to ColumnDefinition.\n",
    "\n",
    "```python\n",
    "\n",
    "    plot_fn: Callable = None\n",
    "        A Callable that will take the cells value as input and create a subplot\n",
    "        on top of each cell and plot onto them.\n",
    "        To pass additional arguments to it, use plot_kw (see below).\n",
    "    plot_kw: Dict[str, Any] = field(default_factory=dict)\n",
    "        Additional keywords provided to plot_fn.\n",
    "```"
   ]
  },
  {
   "cell_type": "markdown",
   "metadata": {},
   "source": [
    "Commonly used example plots are provided in plottable.plots. You can have a look at them below.\n",
    "\n",
    "## Creating Custom Plot Functions\n",
    "\n",
    "You can also easily create your own functions. Just make sure to have  \n",
    "``ax: matplotlib.axes.Axes`` as first and  \n",
    "`val: Any` (the cells value) as second arguments.\n",
    "\n",
    "```python\n",
    "def custom_plot_fn(\n",
    "    ax: matplotlib.axes.Axes,\n",
    "    val: Any,\n",
    "    # further arguments that can be passed via plot_kw\n",
    "    ):\n",
    "    ...\n",
    "```\n",
    "\n",
    "for more complex data you can create a dictionary or function that gets data based on the cells value, ie.\n",
    "\n",
    "```python\n",
    "def custom_plot_fn(\n",
    "    ax: matplotlib.axes.Axes,\n",
    "    val: Any,\n",
    "    # further arguments that can be passed via plot_kw\n",
    "    ):\n",
    "    \n",
    "    data = my_data_dict.get(val)\n",
    "    or\n",
    "    data = my_data_getter_function(val)\n",
    "```\n",
    "\n",
    "You can create Sparklines, Histograms, ... you name it.  \n",
    "\n",
    "If you create any cool plots to use with plottable, please consider sharing them by creating a Pull Request!"
   ]
  },
  {
   "cell_type": "markdown",
   "metadata": {},
   "source": [
    "## Available Plots"
   ]
  },
  {
   "cell_type": "code",
   "execution_count": 1,
   "metadata": {},
   "outputs": [],
   "source": [
    "%load_ext autoreload\n",
    "%autoreload 2\n",
    "\n",
    "from pathlib import Path\n",
    "\n",
    "import matplotlib.pyplot as plt\n",
    "import numpy as np\n",
    "import pandas as pd\n",
    "from matplotlib.colors import LinearSegmentedColormap\n",
    "\n",
    "from plottable import ColumnDefinition, Table\n",
    "from plottable.plots import *"
   ]
  },
  {
   "cell_type": "code",
   "execution_count": 2,
   "metadata": {},
   "outputs": [],
   "source": [
    "path = list(Path(\"../example_notebooks/country_flags\").glob(\"*.png\"))[0]\n",
    "cmap = LinearSegmentedColormap.from_list(\n",
    "    name=\"bugw\", colors=[\"#ffffff\", \"#f2fbd2\", \"#c9ecb4\", \"#93d3ab\", \"#35b0ab\"], N=256\n",
    ")"
   ]
  },
  {
   "cell_type": "markdown",
   "metadata": {},
   "source": [
    "## percentile_bars"
   ]
  },
  {
   "cell_type": "code",
   "execution_count": 3,
   "metadata": {},
   "outputs": [
    {
     "data": {
      "image/png": "[encoded data removed]",
      "text/plain": [
       "<Figure size 72x36 with 1 Axes>"
      ]
     },
     "metadata": {
      "needs_background": "light"
     },
     "output_type": "display_data"
    }
   ],
   "source": [
    "fig, ax = plt.subplots(figsize=(1, 0.5))\n",
    "\n",
    "bars = percentile_bars(ax=ax, val=72, color=\"#b0db7c\", background_color=\"#f0f0f0\", is_pct=False)\n",
    "\n",
    "plt.show()\n",
    "\n",
    "# fig.savefig(Path.home() / \"Downloads/percentile_plot.png\")"
   ]
  },
  {
   "cell_type": "markdown",
   "metadata": {},
   "source": [
    "## image"
   ]
  },
  {
   "cell_type": "code",
   "execution_count": 4,
   "metadata": {},
   "outputs": [
    {
     "data": {
      "image/png": "[encoded data removed]",
      "text/plain": [
       "<Figure size 72x72 with 1 Axes>"
      ]
     },
     "metadata": {
      "needs_background": "light"
     },
     "output_type": "display_data"
    }
   ],
   "source": [
    "fig, ax = plt.subplots(figsize=(1, 1))\n",
    "\n",
    "image(ax, path)\n",
    "\n",
    "plt.show()\n"
   ]
  },
  {
   "cell_type": "markdown",
   "metadata": {},
   "source": [
    "## circled_image"
   ]
  },
  {
   "cell_type": "code",
   "execution_count": 5,
   "metadata": {},
   "outputs": [
    {
     "data": {
      "image/png": "[encoded data removed]",
      "text/plain": [
       "<Figure size 72x72 with 1 Axes>"
      ]
     },
     "metadata": {
      "needs_background": "light"
     },
     "output_type": "display_data"
    }
   ],
   "source": [
    "fig, ax = plt.subplots(figsize=(1, 1))\n",
    "\n",
    "im = circled_image(ax, path)\n",
    "\n",
    "plt.show()\n"
   ]
  },
  {
   "cell_type": "markdown",
   "metadata": {},
   "source": [
    "## circled_image with border"
   ]
  },
  {
   "cell_type": "code",
   "execution_count": 6,
   "metadata": {},
   "outputs": [
    {
     "data": {
      "image/png": "[encoded data removed]",
      "text/plain": [
       "<Figure size 72x72 with 1 Axes>"
      ]
     },
     "metadata": {
      "needs_background": "light"
     },
     "output_type": "display_data"
    }
   ],
   "source": [
    "fig, ax = plt.subplots(figsize=(1, 1))\n",
    "\n",
    "im = circled_image(ax, path, linewidth=2, visible=True, edgecolor=\"#999999\")\n",
    "\n",
    "plt.show()\n"
   ]
  },
  {
   "cell_type": "markdown",
   "metadata": {},
   "source": [
    "## bar"
   ]
  },
  {
   "cell_type": "code",
   "execution_count": 7,
   "metadata": {},
   "outputs": [
    {
     "data": {
      "image/png": "[encoded data removed]",
      "text/plain": [
       "<Figure size 72x72 with 1 Axes>"
      ]
     },
     "metadata": {
      "needs_background": "light"
     },
     "output_type": "display_data"
    }
   ],
   "source": [
    "fig, ax = plt.subplots(figsize=(1, 1))\n",
    "b = bar(ax, 1, color=\"k\", cmap=cmap)\n",
    "plt.show()"
   ]
  },
  {
   "cell_type": "markdown",
   "metadata": {},
   "source": [
    "## bar with value annotation and linecolor"
   ]
  },
  {
   "cell_type": "code",
   "execution_count": 8,
   "metadata": {},
   "outputs": [
    {
     "data": {
      "image/png": "[encoded data removed]",
      "text/plain": [
       "<Figure size 72x72 with 1 Axes>"
      ]
     },
     "metadata": {
      "needs_background": "light"
     },
     "output_type": "display_data"
    }
   ],
   "source": [
    "fig, ax = plt.subplots(figsize=(1, 1))\n",
    "b = bar(ax, 0.5, plot_bg_bar=True, cmap=cmap, annotate=True, lw=1, height=0.35)\n",
    "plt.show()"
   ]
  },
  {
   "cell_type": "markdown",
   "metadata": {},
   "source": [
    "## percentile_stars"
   ]
  },
  {
   "cell_type": "code",
   "execution_count": 10,
   "metadata": {},
   "outputs": [
    {
     "data": {
      "image/png": "[encoded data removed]",
      "text/plain": [
       "<Figure size 144x72 with 1 Axes>"
      ]
     },
     "metadata": {
      "needs_background": "light"
     },
     "output_type": "display_data"
    }
   ],
   "source": [
    "fig, ax = plt.subplots(figsize=(2, 1))\n",
    "\n",
    "stars = percentile_stars(ax, 70, background_color=\"k\")"
   ]
  },
  {
   "cell_type": "markdown",
   "metadata": {},
   "source": [
    "## progress_donut"
   ]
  },
  {
   "cell_type": "code",
   "execution_count": 11,
   "metadata": {},
   "outputs": [
    {
     "data": {
      "image/png": "[encoded data removed]",
      "text/plain": [
       "<Figure size 72x72 with 1 Axes>"
      ]
     },
     "metadata": {
      "needs_background": "light"
     },
     "output_type": "display_data"
    }
   ],
   "source": [
    "fig, ax = plt.subplots(figsize=(1, 1))\n",
    "donut = progress_donut(ax, 73, textprops={\"fontsize\": 14})\n",
    "plt.show()"
   ]
  },
  {
   "cell_type": "markdown",
   "metadata": {},
   "source": [
    "## sparklines"
   ]
  },
  {
   "cell_type": "code",
   "execution_count": 3,
   "metadata": {},
   "outputs": [
    {
     "data": {
      "image/png": "[encoded data removed]",
      "text/plain": [
       "<Figure size 216x216 with 4 Axes>"
      ]
     },
     "metadata": {},
     "output_type": "display_data"
    }
   ],
   "source": [
    "fig, axes = plt.subplots(nrows = 2, ncols = 2, figsize=(3, 3))\n",
    "fig.set_facecolor('white')\n",
    "axes = axes.flatten()\n",
    "[ax.set(xticks=[], yticks=[]) for ax in axes]\n",
    "\n",
    "# default line\n",
    "line_plot1 = sparklines(ax = axes[0], \n",
    "                        values = [10,20,30,15,50]\n",
    "                        )\n",
    "\n",
    "# line (ax.plot()) kwargs\n",
    "line_plot2 = sparklines(ax=axes[1], \n",
    "                        values=[10,20,30,15,50], \n",
    "                        line_kwargs={'color': 'red', \n",
    "                                     'linestyle': '-.',\n",
    "                                     'lw': 2})\n",
    "\n",
    "# multiple lines\n",
    "line_plot3 = sparklines(axes[2], \n",
    "                        [[10,20,30,15,50], \n",
    "                         [15,30,45,60,25]],\n",
    "                        line_kwargs={'color': 'red'})\n",
    "\n",
    "# multiple lines; multiple line_kwargs\n",
    "line_plot4 = sparklines(axes[3], \n",
    "                        [[10,20,30,15,50], \n",
    "                         [15,30,45,60,25]],\n",
    "                        line_kwargs=[{'color': 'silver', 'lw': .5, 'ls': '-.', 'alpha': .8}, \n",
    "                                     {'color': 'black'}])\n",
    "\n",
    "plt.show()"
   ]
  },
  {
   "cell_type": "code",
   "execution_count": null,
   "metadata": {},
   "outputs": [],
   "source": []
  }
 ],
 "metadata": {
  "kernelspec": {
   "display_name": "Python 3.10.5 ('env': venv)",
   "language": "python",
   "name": "python3"
  },
  "language_info": {
   "codemirror_mode": {
    "name": "ipython",
    "version": 3
   },
   "file_extension": ".py",
   "mimetype": "text/x-python",
   "name": "python",
   "nbconvert_exporter": "python",
   "pygments_lexer": "ipython3",
   "version": "3.10.4"
  },
  "orig_nbformat": 4,
  "vscode": {
   "interpreter": {
    "hash": "fad163352f6b6c4f05b9b8d41b1f28c58b235e61ec56c8581176f01128143b49"
   }
  }
 },
 "nbformat": 4,
 "nbformat_minor": 2
}
