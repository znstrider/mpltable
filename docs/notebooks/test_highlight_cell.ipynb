{
 "cells": [
  {
   "cell_type": "code",
   "execution_count": 2,
   "metadata": {},
   "outputs": [],
   "source": [
    "%load_ext autoreload\n",
    "%autoreload 2"
   ]
  },
  {
   "cell_type": "code",
   "execution_count": 3,
   "metadata": {},
   "outputs": [],
   "source": [
    "import matplotlib.pyplot as plt\n",
    "import numpy as np\n",
    "import pandas as pd\n",
    "\n",
    "from plottable import ColumnDefinition, Table\n",
    "from plottable.formatters import decimal_to_percent\n",
    "from plottable.plots import bar\n",
    "\n",
    "np.random.seed(42)"
   ]
  },
  {
   "cell_type": "code",
   "execution_count": 4,
   "metadata": {},
   "outputs": [
    {
     "data": {
      "text/plain": [
       "array([[0.54509804, 0.        , 0.        , 1.        ],\n",
       "       [0.41176471, 0.41176471, 0.41176471, 1.        ],\n",
       "       [0.        , 0.39215686, 0.        , 1.        ]])"
      ]
     },
     "metadata": {},
     "output_type": "display_data"
    },
    {
     "data": {
      "text/plain": [
       "'<-0%::{\"color\": \"dimgray\"}>\\n'"
      ]
     },
     "metadata": {},
     "output_type": "display_data"
    }
   ],
   "source": [
    "# Define the custom colormap\n",
    "from collections.abc import Callable\n",
    "from numbers import Number\n",
    "\n",
    "from matplotlib.colors import BoundaryNorm, ListedColormap\n",
    "\n",
    "colors = ['darkred', 'dimgray', 'darkgreen']\n",
    "lcmap = ListedColormap(colors)\n",
    "\n",
    "# Define the boundaries for the colormap\n",
    "boundaries = [-np.inf, -0.05, 0.05, np.inf]\n",
    "norm = BoundaryNorm(boundaries, lcmap.N)\n",
    "\n",
    "\n",
    "display(lcmap(norm(np.array([-0.1, 0, 0.2]))))\n",
    "\n",
    "\n",
    "def pick_colour(val: float):\n",
    "    if val < -0.05:\n",
    "        return 'darkred'\n",
    "    elif val > 0.05:\n",
    "        return 'darkgreen'\n",
    "    else:\n",
    "        return 'dimgray'\n",
    "\n",
    "def apply_colour(val, colour_fn: Callable[[float], str], strfmt: str = \"+.0%\"):\n",
    "    if isinstance(val, Number):\n",
    "        return f'<{val:{strfmt}}::{{\"color\": \"{colour_fn(val)}\"}}>\\n'\n",
    "\n",
    "display(apply_colour(-0.002, pick_colour))"
   ]
  },
  {
   "cell_type": "code",
   "execution_count": 5,
   "metadata": {},
   "outputs": [
    {
     "data": {
      "text/html": [
       "<div>\n",
       "<style scoped>\n",
       "    .dataframe tbody tr th:only-of-type {\n",
       "        vertical-align: middle;\n",
       "    }\n",
       "\n",
       "    .dataframe tbody tr th {\n",
       "        vertical-align: top;\n",
       "    }\n",
       "\n",
       "    .dataframe thead th {\n",
       "        text-align: right;\n",
       "    }\n",
       "</style>\n",
       "<table border=\"1\" class=\"dataframe\">\n",
       "  <thead>\n",
       "    <tr style=\"text-align: right;\">\n",
       "      <th></th>\n",
       "      <th>A</th>\n",
       "      <th>B</th>\n",
       "      <th>C</th>\n",
       "      <th>D</th>\n",
       "      <th>E</th>\n",
       "    </tr>\n",
       "  </thead>\n",
       "  <tbody>\n",
       "    <tr>\n",
       "      <th>0</th>\n",
       "      <td>-0.25</td>\n",
       "      <td>0.90</td>\n",
       "      <td>0.46</td>\n",
       "      <td>0.20</td>\n",
       "      <td>-0.69</td>\n",
       "    </tr>\n",
       "    <tr>\n",
       "      <th>1</th>\n",
       "      <td>-0.69</td>\n",
       "      <td>-0.88</td>\n",
       "      <td>0.73</td>\n",
       "      <td>0.20</td>\n",
       "      <td>0.42</td>\n",
       "    </tr>\n",
       "    <tr>\n",
       "      <th>2</th>\n",
       "      <td>-0.96</td>\n",
       "      <td>0.94</td>\n",
       "      <td>0.66</td>\n",
       "      <td>-0.58</td>\n",
       "      <td>-0.64</td>\n",
       "    </tr>\n",
       "    <tr>\n",
       "      <th>3</th>\n",
       "      <td>-0.63</td>\n",
       "      <td>-0.39</td>\n",
       "      <td>0.05</td>\n",
       "      <td>-0.14</td>\n",
       "      <td>-0.42</td>\n",
       "    </tr>\n",
       "    <tr>\n",
       "      <th>4</th>\n",
       "      <td>0.22</td>\n",
       "      <td>-0.72</td>\n",
       "      <td>-0.42</td>\n",
       "      <td>-0.27</td>\n",
       "      <td>-0.09</td>\n",
       "    </tr>\n",
       "  </tbody>\n",
       "</table>\n",
       "</div>"
      ],
      "text/plain": [
       "      A     B     C     D     E\n",
       "0 -0.25  0.90  0.46  0.20 -0.69\n",
       "1 -0.69 -0.88  0.73  0.20  0.42\n",
       "2 -0.96  0.94  0.66 -0.58 -0.64\n",
       "3 -0.63 -0.39  0.05 -0.14 -0.42\n",
       "4  0.22 -0.72 -0.42 -0.27 -0.09"
      ]
     },
     "execution_count": 5,
     "metadata": {},
     "output_type": "execute_result"
    }
   ],
   "source": [
    "d = pd.DataFrame(np.random.random((5, 5),)*2-1, columns=[\"A\", \"B\", \"C\", \"D\", \"E\"]).round(2)\n",
    "d"
   ]
  },
  {
   "cell_type": "code",
   "execution_count": 6,
   "metadata": {},
   "outputs": [
    {
     "data": {
      "text/html": [
       "<div>\n",
       "<style scoped>\n",
       "    .dataframe tbody tr th:only-of-type {\n",
       "        vertical-align: middle;\n",
       "    }\n",
       "\n",
       "    .dataframe tbody tr th {\n",
       "        vertical-align: top;\n",
       "    }\n",
       "\n",
       "    .dataframe thead th {\n",
       "        text-align: right;\n",
       "    }\n",
       "</style>\n",
       "<table border=\"1\" class=\"dataframe\">\n",
       "  <thead>\n",
       "    <tr style=\"text-align: right;\">\n",
       "      <th></th>\n",
       "      <th>A</th>\n",
       "      <th>B</th>\n",
       "      <th>C</th>\n",
       "      <th>D</th>\n",
       "      <th>E</th>\n",
       "    </tr>\n",
       "  </thead>\n",
       "  <tbody>\n",
       "    <tr>\n",
       "      <th>0</th>\n",
       "      <td>&lt;-25%::{\"color\": \"darkred\"}&gt;\\n</td>\n",
       "      <td>&lt;+90%::{\"color\": \"darkgreen\"}&gt;\\n</td>\n",
       "      <td>&lt;+46%::{\"color\": \"darkgreen\"}&gt;\\n</td>\n",
       "      <td>&lt;+20%::{\"color\": \"darkgreen\"}&gt;\\n</td>\n",
       "      <td>&lt;-69%::{\"color\": \"darkred\"}&gt;\\n</td>\n",
       "    </tr>\n",
       "    <tr>\n",
       "      <th>1</th>\n",
       "      <td>&lt;-69%::{\"color\": \"darkred\"}&gt;\\n</td>\n",
       "      <td>&lt;-88%::{\"color\": \"darkred\"}&gt;\\n</td>\n",
       "      <td>&lt;+73%::{\"color\": \"darkgreen\"}&gt;\\n</td>\n",
       "      <td>&lt;+20%::{\"color\": \"darkgreen\"}&gt;\\n</td>\n",
       "      <td>&lt;+42%::{\"color\": \"darkgreen\"}&gt;\\n</td>\n",
       "    </tr>\n",
       "    <tr>\n",
       "      <th>2</th>\n",
       "      <td>&lt;-96%::{\"color\": \"darkred\"}&gt;\\n</td>\n",
       "      <td>&lt;+94%::{\"color\": \"darkgreen\"}&gt;\\n</td>\n",
       "      <td>&lt;+66%::{\"color\": \"darkgreen\"}&gt;\\n</td>\n",
       "      <td>&lt;-58%::{\"color\": \"darkred\"}&gt;\\n</td>\n",
       "      <td>&lt;-64%::{\"color\": \"darkred\"}&gt;\\n</td>\n",
       "    </tr>\n",
       "    <tr>\n",
       "      <th>3</th>\n",
       "      <td>&lt;-63%::{\"color\": \"darkred\"}&gt;\\n</td>\n",
       "      <td>&lt;-39%::{\"color\": \"darkred\"}&gt;\\n</td>\n",
       "      <td>&lt;+5%::{\"color\": \"dimgray\"}&gt;\\n</td>\n",
       "      <td>&lt;-14%::{\"color\": \"darkred\"}&gt;\\n</td>\n",
       "      <td>&lt;-42%::{\"color\": \"darkred\"}&gt;\\n</td>\n",
       "    </tr>\n",
       "    <tr>\n",
       "      <th>4</th>\n",
       "      <td>&lt;+22%::{\"color\": \"darkgreen\"}&gt;\\n</td>\n",
       "      <td>&lt;-72%::{\"color\": \"darkred\"}&gt;\\n</td>\n",
       "      <td>&lt;-42%::{\"color\": \"darkred\"}&gt;\\n</td>\n",
       "      <td>&lt;-27%::{\"color\": \"darkred\"}&gt;\\n</td>\n",
       "      <td>&lt;-9%::{\"color\": \"darkred\"}&gt;\\n</td>\n",
       "    </tr>\n",
       "  </tbody>\n",
       "</table>\n",
       "</div>"
      ],
      "text/plain": [
       "                                  A                                 B  \\\n",
       "0    <-25%::{\"color\": \"darkred\"}>\\n  <+90%::{\"color\": \"darkgreen\"}>\\n   \n",
       "1    <-69%::{\"color\": \"darkred\"}>\\n    <-88%::{\"color\": \"darkred\"}>\\n   \n",
       "2    <-96%::{\"color\": \"darkred\"}>\\n  <+94%::{\"color\": \"darkgreen\"}>\\n   \n",
       "3    <-63%::{\"color\": \"darkred\"}>\\n    <-39%::{\"color\": \"darkred\"}>\\n   \n",
       "4  <+22%::{\"color\": \"darkgreen\"}>\\n    <-72%::{\"color\": \"darkred\"}>\\n   \n",
       "\n",
       "                                  C                                 D  \\\n",
       "0  <+46%::{\"color\": \"darkgreen\"}>\\n  <+20%::{\"color\": \"darkgreen\"}>\\n   \n",
       "1  <+73%::{\"color\": \"darkgreen\"}>\\n  <+20%::{\"color\": \"darkgreen\"}>\\n   \n",
       "2  <+66%::{\"color\": \"darkgreen\"}>\\n    <-58%::{\"color\": \"darkred\"}>\\n   \n",
       "3     <+5%::{\"color\": \"dimgray\"}>\\n    <-14%::{\"color\": \"darkred\"}>\\n   \n",
       "4    <-42%::{\"color\": \"darkred\"}>\\n    <-27%::{\"color\": \"darkred\"}>\\n   \n",
       "\n",
       "                                  E  \n",
       "0    <-69%::{\"color\": \"darkred\"}>\\n  \n",
       "1  <+42%::{\"color\": \"darkgreen\"}>\\n  \n",
       "2    <-64%::{\"color\": \"darkred\"}>\\n  \n",
       "3    <-42%::{\"color\": \"darkred\"}>\\n  \n",
       "4     <-9%::{\"color\": \"darkred\"}>\\n  "
      ]
     },
     "execution_count": 6,
     "metadata": {},
     "output_type": "execute_result"
    }
   ],
   "source": [
    "d = d.map(lambda v: apply_colour(v, pick_colour))\n",
    "d"
   ]
  },
  {
   "cell_type": "code",
   "execution_count": 7,
   "metadata": {},
   "outputs": [
    {
     "data": {
      "text/html": [
       "<div>\n",
       "<style scoped>\n",
       "    .dataframe tbody tr th:only-of-type {\n",
       "        vertical-align: middle;\n",
       "    }\n",
       "\n",
       "    .dataframe tbody tr th {\n",
       "        vertical-align: top;\n",
       "    }\n",
       "\n",
       "    .dataframe thead th {\n",
       "        text-align: right;\n",
       "    }\n",
       "</style>\n",
       "<table border=\"1\" class=\"dataframe\">\n",
       "  <thead>\n",
       "    <tr style=\"text-align: right;\">\n",
       "      <th></th>\n",
       "      <th>0</th>\n",
       "    </tr>\n",
       "  </thead>\n",
       "  <tbody>\n",
       "    <tr>\n",
       "      <th>0</th>\n",
       "      <td>&lt;-25%::{\"color\": \"darkred\"}&gt;\\n&lt;+90%::{\"color\":...</td>\n",
       "    </tr>\n",
       "    <tr>\n",
       "      <th>1</th>\n",
       "      <td>&lt;-69%::{\"color\": \"darkred\"}&gt;\\n&lt;-88%::{\"color\":...</td>\n",
       "    </tr>\n",
       "    <tr>\n",
       "      <th>2</th>\n",
       "      <td>&lt;-96%::{\"color\": \"darkred\"}&gt;\\n&lt;+94%::{\"color\":...</td>\n",
       "    </tr>\n",
       "    <tr>\n",
       "      <th>3</th>\n",
       "      <td>&lt;-63%::{\"color\": \"darkred\"}&gt;\\n&lt;-39%::{\"color\":...</td>\n",
       "    </tr>\n",
       "    <tr>\n",
       "      <th>4</th>\n",
       "      <td>&lt;+22%::{\"color\": \"darkgreen\"}&gt;\\n&lt;-72%::{\"color...</td>\n",
       "    </tr>\n",
       "  </tbody>\n",
       "</table>\n",
       "</div>"
      ],
      "text/plain": [
       "                                                   0\n",
       "0  <-25%::{\"color\": \"darkred\"}>\\n<+90%::{\"color\":...\n",
       "1  <-69%::{\"color\": \"darkred\"}>\\n<-88%::{\"color\":...\n",
       "2  <-96%::{\"color\": \"darkred\"}>\\n<+94%::{\"color\":...\n",
       "3  <-63%::{\"color\": \"darkred\"}>\\n<-39%::{\"color\":...\n",
       "4  <+22%::{\"color\": \"darkgreen\"}>\\n<-72%::{\"color..."
      ]
     },
     "execution_count": 7,
     "metadata": {},
     "output_type": "execute_result"
    }
   ],
   "source": [
    "d.sum(axis=1).to_frame()"
   ]
  },
  {
   "cell_type": "code",
   "execution_count": 9,
   "metadata": {},
   "outputs": [
    {
     "data": {
      "image/png": "[encoded data removed]",
      "text/plain": [
       "<Figure size 600x800 with 1 Axes>"
      ]
     },
     "metadata": {},
     "output_type": "display_data"
    }
   ],
   "source": [
    "fig, ax = plt.subplots(figsize=(6, 8))\n",
    "plt.tight_layout()\n",
    "tab = Table(d.sum(axis=1).to_frame(), textprops={\"ha\":'right', \"va\":'center'})\n",
    "\n",
    "plt.show()"
   ]
  },
  {
   "cell_type": "code",
   "execution_count": null,
   "metadata": {},
   "outputs": [],
   "source": []
  }
 ],
 "metadata": {
  "kernelspec": {
   "display_name": ".venv",
   "language": "python",
   "name": "python3"
  },
  "language_info": {
   "codemirror_mode": {
    "name": "ipython",
    "version": 3
   },
   "file_extension": ".py",
   "mimetype": "text/x-python",
   "name": "python",
   "nbconvert_exporter": "python",
   "pygments_lexer": "ipython3",
   "version": "3.13.0"
  }
 },
 "nbformat": 4,
 "nbformat_minor": 2
}
